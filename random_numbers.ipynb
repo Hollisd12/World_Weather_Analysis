{
 "cells": [
  {
   "cell_type": "code",
   "execution_count": 1,
   "id": "df81cbc1",
   "metadata": {},
   "outputs": [],
   "source": [
    "# Import the random module\n",
    "import random"
   ]
  },
  {
   "cell_type": "code",
   "execution_count": 2,
   "id": "d5cf27ed",
   "metadata": {},
   "outputs": [
    {
     "data": {
      "text/plain": [
       "-74"
      ]
     },
     "execution_count": 2,
     "metadata": {},
     "output_type": "execute_result"
    }
   ],
   "source": [
    "# random integer\n",
    "random.randint(-90,90)"
   ]
  },
  {
   "cell_type": "code",
   "execution_count": 3,
   "id": "bacf0e30",
   "metadata": {},
   "outputs": [
    {
     "data": {
      "text/plain": [
       "0.9806624698228164"
      ]
     },
     "execution_count": 3,
     "metadata": {},
     "output_type": "execute_result"
    }
   ],
   "source": [
    "# random \n",
    "random.random()"
   ]
  },
  {
   "cell_type": "code",
   "execution_count": 4,
   "id": "90af5c6e",
   "metadata": {},
   "outputs": [
    {
     "data": {
      "text/plain": [
       "89.71707628619926"
      ]
     },
     "execution_count": 4,
     "metadata": {},
     "output_type": "execute_result"
    }
   ],
   "source": [
    "# random int plus random\n",
    "random_number = random.randint(-90,89)+random.random()\n",
    "random_number"
   ]
  },
  {
   "cell_type": "code",
   "execution_count": 5,
   "id": "af61e9d2",
   "metadata": {},
   "outputs": [
    {
     "data": {
      "text/plain": [
       "[-43.107703098167185,\n",
       " -85.45019763566803,\n",
       " 24.186433155632386,\n",
       " 74.1920032954597,\n",
       " -78.10289255482041,\n",
       " -43.8888948896192,\n",
       " 12.965516515575223,\n",
       " -35.597207704463294,\n",
       " 21.425276246106048,\n",
       " -71.99280098212986]"
      ]
     },
     "execution_count": 5,
     "metadata": {},
     "output_type": "execute_result"
    }
   ],
   "source": [
    "# Generate 10 random latitudes between -90 and 89\n",
    "\n",
    "# assign variable to x\n",
    "x=1\n",
    "# initialize an empty list\n",
    "latitudes=[]\n",
    "\n",
    "# create a while loop where we generate a random latitude and add it to the list\n",
    "while x<11:\n",
    "    random_lat=random.randint(-90,89)+random.random()\n",
    "    latitudes.append(random_lat)\n",
    "    \n",
    "    # after the random lat is added to the list, we add one to the variable x\n",
    "    x+=1\n",
    "    \n",
    "    # the while loop condition is checked again and will continue as long as x is less than 11\n",
    "    \n",
    "# print the lats list\n",
    "latitudes"
   ]
  },
  {
   "cell_type": "code",
   "execution_count": 6,
   "id": "97471cc2",
   "metadata": {},
   "outputs": [],
   "source": [
    "# import the NumPy module\n",
    "import numpy as np"
   ]
  },
  {
   "cell_type": "code",
   "execution_count": 7,
   "id": "2aabcdf0",
   "metadata": {},
   "outputs": [
    {
     "data": {
      "text/plain": [
       "-19.814586539654115"
      ]
     },
     "execution_count": 7,
     "metadata": {},
     "output_type": "execute_result"
    }
   ],
   "source": [
    "# generate random floating integer\n",
    "np.random.uniform(-90.000,90.000)"
   ]
  },
  {
   "cell_type": "code",
   "execution_count": 8,
   "id": "87940b69",
   "metadata": {},
   "outputs": [
    {
     "data": {
      "text/plain": [
       "array([ 32.01410459,   5.94915859,  25.47708153, -34.38480183,\n",
       "       -84.4431929 ,  33.21544119, -13.30696149, -63.50598151,\n",
       "       -52.24864832,  32.87054547, -74.13217518, -19.79379216,\n",
       "        53.44511873,  67.37591556, -85.14339712,  11.03267158,\n",
       "       -86.10070657, -27.48677684, -66.89717784, -64.13664175,\n",
       "        76.55319461, -11.5205375 , -68.51422072,  89.00672228,\n",
       "       -51.93551296,  27.43004696,  47.65667622,  46.8615896 ,\n",
       "        -6.44674841,  69.29574427, -74.8703714 , -16.86540346,\n",
       "        11.29071495, -56.39962549, -34.5910637 ,  89.36767592,\n",
       "       -75.51788012, -16.22966431, -29.11100898,  78.33004285,\n",
       "         2.83911269, -63.1511555 , -11.96407333,   7.02796248,\n",
       "        80.49268618, -53.00662962, -21.66635027, -86.6872297 ,\n",
       "        55.36521835,  37.96545987])"
      ]
     },
     "execution_count": 8,
     "metadata": {},
     "output_type": "execute_result"
    }
   ],
   "source": [
    "# import 50 random integers\n",
    "np.random.uniform(-90.000,90.000, size = 50)"
   ]
  },
  {
   "cell_type": "code",
   "execution_count": 9,
   "id": "6ec71e80",
   "metadata": {},
   "outputs": [
    {
     "name": "stdout",
     "output_type": "stream",
     "text": [
      "29.4 ns ± 7.53 ns per loop (mean ± std. dev. of 7 runs, 10000000 loops each)\n"
     ]
    }
   ],
   "source": [
    "import timeit\n",
    "\n",
    "# assign variable to x\n",
    "x=1\n",
    "# initialize an empty list\n",
    "latitudes=[]\n",
    "\n",
    "# create a while loop where we generate a random latitude and add it to the list\n",
    "while x<1500:\n",
    "    random_lat=random.randint(-90,89)+random.random()\n",
    "    latitudes.append(random_lat)\n",
    "    \n",
    "    # after the random lat is added to the list, we add one to the variable x\n",
    "    x+=1\n",
    "    \n",
    "    # the while loop condition is checked again and will continue as long as x is less than 11\n",
    "    \n",
    "\n",
    "%timeit latitudes"
   ]
  },
  {
   "cell_type": "code",
   "execution_count": 10,
   "id": "ebe4fac9",
   "metadata": {},
   "outputs": [],
   "source": [
    "## Create Latitude and Longitude combinations\n",
    "\n",
    "# Import the dependencies.\n",
    "import pandas as pd\n",
    "import matplotlib.pyplot as plt\n",
    "import numpy as np"
   ]
  },
  {
   "cell_type": "code",
   "execution_count": 11,
   "id": "49033cf4",
   "metadata": {},
   "outputs": [
    {
     "data": {
      "text/plain": [
       "<zip at 0x26c9af3e988>"
      ]
     },
     "execution_count": 11,
     "metadata": {},
     "output_type": "execute_result"
    }
   ],
   "source": [
    "# Create a set of random latitude and longitude combinations\n",
    "lats = np.random.uniform(low = -90.000, high = 90.000, size = 1500)\n",
    "lngs = np.random.uniform(low = -180.000, high = 180.000, size = 1500)\n",
    "\n",
    "lats_lngs = zip(lats, lngs)\n",
    "lats_lngs"
   ]
  },
  {
   "cell_type": "code",
   "execution_count": null,
   "id": "9bad06e9",
   "metadata": {},
   "outputs": [],
   "source": []
  }
 ],
 "metadata": {
  "kernelspec": {
   "display_name": "PythonData",
   "language": "python",
   "name": "pythondata"
  },
  "language_info": {
   "codemirror_mode": {
    "name": "ipython",
    "version": 3
   },
   "file_extension": ".py",
   "mimetype": "text/x-python",
   "name": "python",
   "nbconvert_exporter": "python",
   "pygments_lexer": "ipython3",
   "version": "3.7.13"
  }
 },
 "nbformat": 4,
 "nbformat_minor": 5
}
