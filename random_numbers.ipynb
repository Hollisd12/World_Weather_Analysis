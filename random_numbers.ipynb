{
 "cells": [
  {
   "cell_type": "code",
   "execution_count": 15,
   "id": "df81cbc1",
   "metadata": {},
   "outputs": [],
   "source": [
    "# Import the random module\n",
    "import random"
   ]
  },
  {
   "cell_type": "code",
   "execution_count": 16,
   "id": "d5cf27ed",
   "metadata": {},
   "outputs": [
    {
     "data": {
      "text/plain": [
       "34"
      ]
     },
     "execution_count": 16,
     "metadata": {},
     "output_type": "execute_result"
    }
   ],
   "source": [
    "# random integer\n",
    "random.randint(-90,90)"
   ]
  },
  {
   "cell_type": "code",
   "execution_count": 18,
   "id": "bacf0e30",
   "metadata": {},
   "outputs": [
    {
     "data": {
      "text/plain": [
       "0.1698405866504601"
      ]
     },
     "execution_count": 18,
     "metadata": {},
     "output_type": "execute_result"
    }
   ],
   "source": [
    "# random \n",
    "random.random()"
   ]
  },
  {
   "cell_type": "code",
   "execution_count": 19,
   "id": "90af5c6e",
   "metadata": {},
   "outputs": [
    {
     "data": {
      "text/plain": [
       "43.34298245328444"
      ]
     },
     "execution_count": 19,
     "metadata": {},
     "output_type": "execute_result"
    }
   ],
   "source": [
    "# random int plus random\n",
    "random_number = random.randint(-90,89)+random.random()\n",
    "random_number"
   ]
  },
  {
   "cell_type": "code",
   "execution_count": 20,
   "id": "af61e9d2",
   "metadata": {},
   "outputs": [
    {
     "data": {
      "text/plain": [
       "[77.39522384194318,\n",
       " 18.116641170602726,\n",
       " 2.164049111742764,\n",
       " 80.90488018554245,\n",
       " 13.315599511792971,\n",
       " 53.13908858274242,\n",
       " 32.257689144636494,\n",
       " 64.98111679657568,\n",
       " 36.5804886006392,\n",
       " 12.682834134407221]"
      ]
     },
     "execution_count": 20,
     "metadata": {},
     "output_type": "execute_result"
    }
   ],
   "source": [
    "# Generate 10 random latitudes between -90 and 89\n",
    "\n",
    "# assign variable to x\n",
    "x=1\n",
    "# initialize an empty list\n",
    "latitudes=[]\n",
    "\n",
    "# create a while loop where we generate a random latitude and add it to the list\n",
    "while x<11:\n",
    "    random_lat=random.randint(-90,89)+random.random()\n",
    "    latitudes.append(random_lat)\n",
    "    \n",
    "    # after the random lat is added to the list, we add one to the variable x\n",
    "    x+=1\n",
    "    \n",
    "    # the while loop condition is checked again and will continue as long as x is less than 11\n",
    "    \n",
    "# print the lats list\n",
    "latitudes"
   ]
  },
  {
   "cell_type": "code",
   "execution_count": 21,
   "id": "97471cc2",
   "metadata": {},
   "outputs": [],
   "source": [
    "# import the NumPy module\n",
    "import numpy as np"
   ]
  },
  {
   "cell_type": "code",
   "execution_count": 22,
   "id": "2aabcdf0",
   "metadata": {},
   "outputs": [
    {
     "data": {
      "text/plain": [
       "74.30693649804698"
      ]
     },
     "execution_count": 22,
     "metadata": {},
     "output_type": "execute_result"
    }
   ],
   "source": [
    "# generate random floating integer\n",
    "np.random.uniform(-90.000,90.000)"
   ]
  },
  {
   "cell_type": "code",
   "execution_count": 23,
   "id": "87940b69",
   "metadata": {},
   "outputs": [
    {
     "data": {
      "text/plain": [
       "array([ 41.66002868,  82.16387103, -88.99624417,  21.58873532,\n",
       "       -28.72684113, -49.72312273,  86.80513401,  10.30593832,\n",
       "        73.59159605,  43.77275384, -44.76172458,  29.34176683,\n",
       "       -50.75723564,  33.96866288,  10.26268641, -87.40991348,\n",
       "        -7.41493592,   2.52918576, -59.80808703,  55.77642434,\n",
       "       -78.13938908, -10.56613292, -31.38840058, -19.11845347,\n",
       "        73.05110816,   0.66145282,  57.60432019,  57.20077619,\n",
       "        71.61210347,  62.8479064 , -12.92714877,  77.83323263,\n",
       "       -52.04979979,  35.30055626, -60.87087358,  32.42293807,\n",
       "        84.46969822, -49.57324046, -35.5471252 ,  89.27336053,\n",
       "       -53.16160659, -41.99305815,  82.42073412, -56.96362426,\n",
       "       -34.5880119 ,  78.13434409, -60.61652209,  74.18564764,\n",
       "        -7.07695688, -44.38663494])"
      ]
     },
     "execution_count": 23,
     "metadata": {},
     "output_type": "execute_result"
    }
   ],
   "source": [
    "# import 50 random integers\n",
    "np.random.uniform(-90.000,90.000, size = 50)"
   ]
  },
  {
   "cell_type": "code",
   "execution_count": 24,
   "id": "6ec71e80",
   "metadata": {},
   "outputs": [
    {
     "name": "stdout",
     "output_type": "stream",
     "text": [
      "20.5 ns ± 0.848 ns per loop (mean ± std. dev. of 7 runs, 10000000 loops each)\n"
     ]
    }
   ],
   "source": [
    "import timeit\n",
    "\n",
    "# assign variable to x\n",
    "x=1\n",
    "# initialize an empty list\n",
    "latitudes=[]\n",
    "\n",
    "# create a while loop where we generate a random latitude and add it to the list\n",
    "while x<1500:\n",
    "    random_lat=random.randint(-90,89)+random.random()\n",
    "    latitudes.append(random_lat)\n",
    "    \n",
    "    # after the random lat is added to the list, we add one to the variable x\n",
    "    x+=1\n",
    "    \n",
    "    # the while loop condition is checked again and will continue as long as x is less than 11\n",
    "    \n",
    "\n",
    "%timeit latitudes"
   ]
  },
  {
   "cell_type": "code",
   "execution_count": null,
   "id": "ebe4fac9",
   "metadata": {},
   "outputs": [],
   "source": []
  }
 ],
 "metadata": {
  "kernelspec": {
   "display_name": "PythonData",
   "language": "python",
   "name": "pythondata"
  },
  "language_info": {
   "codemirror_mode": {
    "name": "ipython",
    "version": 3
   },
   "file_extension": ".py",
   "mimetype": "text/x-python",
   "name": "python",
   "nbconvert_exporter": "python",
   "pygments_lexer": "ipython3",
   "version": "3.7.13"
  }
 },
 "nbformat": 4,
 "nbformat_minor": 5
}
